{
 "cells": [
  {
   "cell_type": "markdown",
   "metadata": {},
   "source": [
    "# API demo\n",
    "\n",
    "This is a short demo demonstrating the main functionality of the matscholar API."
   ]
  },
  {
   "cell_type": "markdown",
   "metadata": {},
   "source": [
    "### Instantiate the rester\n",
    "\n",
    "For an API key contact lweston@lbl.gov, jdagdelen@lbl.gov, or amalietrewartha@lbl.gov.\n",
    "\n",
    "If an API key has already been obtained, the rester is instantiated as follows:"
   ]
  },
  {
   "cell_type": "code",
   "execution_count": 8,
   "metadata": {},
   "outputs": [],
   "source": [
    "from matscholar.rest import Rester\n",
    "rester = Rester(api_key=\"your-api-key\", endpoint=\"http://api.matscholar.com\")"
   ]
  },
  {
   "cell_type": "markdown",
   "metadata": {},
   "source": [
    "### Resources"
   ]
  },
  {
   "cell_type": "markdown",
   "metadata": {},
   "source": [
    "##### Searching documents\n",
    "\n",
    "Our corpus of materials science abstracts can be searched based on text matching (ElasticSearch) or by filtering based on the Named Entities extracted from each document. Entity based searches support the following entity types: material, property, application, descriptor, characterization, synthesis, phase.\n",
    "\n",
    "To get the raw text of abstracts matching a given query:"
   ]
  },
  {
   "cell_type": "code",
   "execution_count": 9,
   "metadata": {},
   "outputs": [],
   "source": [
    "#include text mentioning \"light-emitting diode\"\n",
    "example_text = \"light-emitting diode\"\n",
    "#include material \"GaN\" exclude \"InN\"; include descriptor \"thin film\"\n",
    "example_entities = {'material': ['GaN', \"-InN\"], \"descriptor\": [\"thin film\"]}\n",
    "docs = rester.search_text_with_ents(text=example_text, filters=example_entities, cutoff=10)"
   ]
  },
  {
   "cell_type": "code",
   "execution_count": 10,
   "metadata": {
    "scrolled": true
   },
   "outputs": [
    {
     "data": {
      "text/plain": [
       "{'abstract': 'In this work, a nano-cavity patterned sapphire substrate (nc-PSS) is fabricated by using a self-formed meshed Pt thin film on a c-plane sapphire substrate. The light output power of a GaN-based light emitting diode on the nc-PSS is 45% greater than that of a control light emitting diode that was prepared on a flat c-plane sapphire substrate (f-SS) wafer. The GaN-based light emitting diode that was prepared on the nc-PSS exhibited much less drooping than a GaN-based light-emitting diode that was prepared on a commercial semi-sphere patterned sapphire substrate (r-PSS), mainly because the voids that formed at the cavities at the GaN/nc-PSS interface buffered the stress in the GaN epi-layers that was imposed by the sapphire substrate.',\n",
       " 'authors': ['Huang, S.W.',\n",
       "  'Chang, C.C.',\n",
       "  'Lin, H.Y.',\n",
       "  'Li, X.F.',\n",
       "  'Lin, Y.C.',\n",
       "  'Liu, C.Y.'],\n",
       " 'doi': '10.1016/j.tsf.2017.03.015',\n",
       " 'journal': 'Thin Solid Films',\n",
       " 'link': 'https://www.sciencedirect.com/science/article/pii/S0040609017301906',\n",
       " 'title': 'Fabrication of nano-cavity patterned sapphire substrate using self-assembly meshed Pt thin film on c-plane sapphire substrate ',\n",
       " 'year': '2017'}"
      ]
     },
     "execution_count": 10,
     "metadata": {},
     "output_type": "execute_result"
    }
   ],
   "source": [
    "docs[0]"
   ]
  },
  {
   "cell_type": "markdown",
   "metadata": {},
   "source": [
    "##### Searching entities\n",
    "\n",
    "We have extracted materials-science named entities from nearly 3.5 million materials science absracts.\n",
    "\n",
    "The extracted named entities for each document associated with a query are returned by the search_ents method. This method takes as input a dictionary with entity types as keys and a list of entities as values. For example, to find all of the entities that co-occur with the query below:"
   ]
  },
  {
   "cell_type": "code",
   "execution_count": 15,
   "metadata": {},
   "outputs": [
    {
     "data": {
      "text/plain": [
       "{'doi': '10.1039/C1CC14166J',\n",
       " 'MAT': ['Ba5O15Ti2Zr3',\n",
       "  'Ba5O15TiZr4',\n",
       "  'Ba10O30Ti7Zr3',\n",
       "  'Ba5O15Ti3Zr2',\n",
       "  'Ba2O6TiZr',\n",
       "  'BaO3Ti',\n",
       "  'BaO3Zr',\n",
       "  'Ba10O30Ti3Zr7',\n",
       "  'Ba10O30TiZr9',\n",
       "  'Ba5O15Ti4Zr',\n",
       "  'Ba10O30Ti9Zr'],\n",
       " 'PRO': ['noncentrosymmetric', 'local structural distortion'],\n",
       " 'APL': [],\n",
       " 'DSC': ['single crystal',\n",
       "  'as-prepared nanocrystals',\n",
       "  'crystalline',\n",
       "  'nanocrystalline',\n",
       "  'single',\n",
       "  'crystals'],\n",
       " 'CMT': [],\n",
       " 'SMT': ['vapor diffusion sol – gel'],\n",
       " 'SPL': []}"
      ]
     },
     "execution_count": 15,
     "metadata": {},
     "output_type": "execute_result"
    }
   ],
   "source": [
    "#get entities for documnets mentioning material \"BaZrO3\" and descriptor \"single crystal\"\n",
    "docs = rester.search_ents(query={\"material\": [\"BaZrO3\"], \"descriptor\": [\"single crystal\"]})\n",
    "docs[0]"
   ]
  },
  {
   "cell_type": "markdown",
   "metadata": {},
   "source": [
    "This wil return a list of dictionaries representing documents matching the query; each dict will contain the DOI as well as each unique entity found in the corresponding abstract.\n",
    "\n",
    "A summary of the entities associated with a query can be generated using the get_summary method. To get statistics for entities co-occuring with GaN:"
   ]
  },
  {
   "cell_type": "code",
   "execution_count": 19,
   "metadata": {},
   "outputs": [],
   "source": [
    "summary = rester.get_summary(query={\"material\": [\"GaN\"]})"
   ]
  },
  {
   "cell_type": "markdown",
   "metadata": {},
   "source": [
    "This will return a dictionary with entity types as keys; the values will be a list of the top entities that occur in documents matching the query, each item in the list will be [entity, document count, fraction].\n",
    "\n",
    "To show the synthesis methods from the summary:"
   ]
  },
  {
   "cell_type": "code",
   "execution_count": 20,
   "metadata": {},
   "outputs": [
    {
     "data": {
      "text/plain": [
       "[['metalorganic chemical vapor deposition', 1187, 0.1140688064578128],\n",
       " ['annealing', 970, 0.09321545262348645],\n",
       " ['molecular beam epitaxy', 651, 0.06256006150297905],\n",
       " ['metalorganic vapor phase epitaxy', 571, 0.05487218912166058],\n",
       " ['hydride vapor phase epitaxy', 408, 0.039208149144724196]]"
      ]
     },
     "execution_count": 20,
     "metadata": {},
     "output_type": "execute_result"
    }
   ],
   "source": [
    "summary[\"SMT\"][:5]"
   ]
  },
  {
   "cell_type": "markdown",
   "metadata": {},
   "source": [
    "To perform a fast literature review, the materials_search_ents method may be used. For a chosen application, this will return a list of all materials that co-occur with that application in our corpus. For example, to see which materials co-occur with the word thermoelectric in a document,"
   ]
  },
  {
   "cell_type": "code",
   "execution_count": 13,
   "metadata": {},
   "outputs": [
    {
     "name": "stdout",
     "output_type": "stream",
     "text": [
      "Bi2Te3 625 ['10.1149/1.1509459', '10.1149/1.2454653', '10.1149/1.3493591']\n",
      "Sb 389 ['10.1149/1.1545458', '10.1039/C6QI00520A', '10.1039/C7QI00138J']\n",
      "Si 389 ['10.1149/2.084204jes', '10.1149/2.0031410jss', '10.1149/2.0021710jss']\n",
      "Te 385 ['10.1149/1.1509459', '10.1149/1.2454653', '10.1149/2.033202jes']\n",
      "Cu 361 ['10.1149/1.2358840', '10.1039/C6QI00340K', '10.1039/C7QI00146K']\n",
      "Bi 351 ['10.1149/1.1509459', '10.1149/1.1545458', '10.1149/1.2454653']\n",
      "Ag 263 ['10.1149/1.1509459', '10.1039/C6QI00162A', '10.1039/C7QI00121E']\n",
      "Ni 241 ['10.1149/1.2358840', '10.1149/1.3385154', '10.1039/C2CE25119A']\n",
      "Co 237 ['10.1149/1.3385154', '10.1039/C5EE02979A', '10.1039/C7CP03527F']\n",
      "Al 228 ['10.1039/C6CE02191C', '10.1039/C1EE02465E', '10.1039/B508998K']\n",
      "Fe 225 ['10.1039/C5EE02979A', '10.1039/C6CP00819D', '10.1039/C3TC30481G']\n",
      "Sn 215 ['10.1039/C2CE25119A', '10.1039/C3CE40956B', '10.1039/C2CP43946H']\n",
      "Ge 202 ['10.1039/C6CE01405D', '10.1039/C5EE02600H', '10.1039/C5CP02174J']\n",
      "Se 192 ['10.1039/C6QI00340K', '10.1039/C4CE02431A', '10.1039/C3CE40491A']\n",
      "CoSb3 188 ['10.1039/C3EE43240H', '10.1039/C7EE00447H', '10.1039/C7CP03527F']\n",
      "Zn 160 ['10.1039/C6QI00520A', '10.1039/C7CP02229H', '10.1039/C5CP00972C']\n",
      "Mg2Si 156 ['10.1039/C4CP01988A', '10.1039/C5TC01535A', '10.1039/C5TA03751D']\n",
      "Mn 153 ['10.1149/1.2358840', '10.1039/C3NJ00309D', '10.1039/C2CP22711H']\n",
      "BiSbTe2 152 ['10.1149/2.1031506jes', '10.1149/2.1151704jes', '10.1039/C0EE00012D']\n",
      "In 148 ['10.1039/C5EE01309G', '10.1039/C3EE43240H', '10.1039/C5CP00972C']\n"
     ]
    }
   ],
   "source": [
    "mat_list = rester.materials_search_ents([\"thermoelectric\"], elements=[\"-Pb\"], cutoff=None)\n",
    "for mat, counts, dois in mat_list[:20]:\n",
    "    print(mat, counts, dois[:3])"
   ]
  },
  {
   "cell_type": "markdown",
   "metadata": {},
   "source": [
    "The above search will find all materials co-occurring with thermoelectric that do not contain lead. The result will be a list, with each element containing a list of [material, co-occurence counts, co-occurrence dois]."
   ]
  },
  {
   "cell_type": "markdown",
   "metadata": {},
   "source": [
    "##### Word embeddings"
   ]
  },
  {
   "cell_type": "markdown",
   "metadata": {},
   "source": [
    "Materials science word embeddings trained using word2vec.\n",
    "\n",
    "To get the word embedding for a given word:"
   ]
  },
  {
   "cell_type": "code",
   "execution_count": 26,
   "metadata": {},
   "outputs": [
    {
     "data": {
      "text/plain": [
       "dict_keys(['embeddings', 'original_wordphrases', 'processed_wordphrases'])"
      ]
     },
     "execution_count": 26,
     "metadata": {},
     "output_type": "execute_result"
    }
   ],
   "source": [
    "embedding = rester.get_embedding(\"photovoltaics\")\n",
    "embedding.keys()"
   ]
  },
  {
   "cell_type": "markdown",
   "metadata": {},
   "source": [
    "This will return a dict containing the embedding. The word embedding will be a 200-dimensional array.\n",
    "\n",
    "The rester also has a close_words method (based on cosine similarity of embeddings) which can be used to explore the semantic similarity of materials science terms; this approach can be used discover materials for a new application (as outlined in the reference above),\n",
    "\n",
    "To find words with a similar embedding to photovolatic:"
   ]
  },
  {
   "cell_type": "code",
   "execution_count": 32,
   "metadata": {},
   "outputs": [
    {
     "data": {
      "text/plain": [
       "['photovoltaic_cells',\n",
       " 'photovoltaic_devices',\n",
       " 'solar_cells',\n",
       " 'photovoltaic',\n",
       " 'photovoltaic_applications',\n",
       " 'next_-_generation_photovoltaics',\n",
       " 'optoelectronics',\n",
       " 'solar_cell',\n",
       " 'solar_cell_applications',\n",
       " 'optoelectronic_devices']"
      ]
     },
     "execution_count": 32,
     "metadata": {},
     "output_type": "execute_result"
    }
   ],
   "source": [
    "close_words = rester.close_words(\"photovoltaics\", top_k=1000)\n",
    "close_words[\"close_words\"][:10]"
   ]
  },
  {
   "cell_type": "markdown",
   "metadata": {},
   "source": [
    "This will return the 1000 closest words to photovoltaics. The result will be a dictionary containing the close words and their cosine similarity to the input word."
   ]
  },
  {
   "cell_type": "markdown",
   "metadata": {},
   "source": [
    "##### Named entity recognition"
   ]
  },
  {
   "cell_type": "markdown",
   "metadata": {},
   "source": [
    "In addition to the pre-processed entities present in our corpus, users can performed Named Entity Recognition on any raw materials science text.\n",
    "\n",
    "The input should be a list of documents with the text represented as a string:"
   ]
  },
  {
   "cell_type": "code",
   "execution_count": 37,
   "metadata": {},
   "outputs": [
    {
     "data": {
      "text/plain": [
       "[[['the', 'O'],\n",
       "  ['bands gap', 'PRO'],\n",
       "  ['of', 'O'],\n",
       "  ['O2Ti', 'MAT'],\n",
       "  ['is', 'O'],\n",
       "  ['3.2', 'PVL'],\n",
       "  ['eV', 'PUT'],\n",
       "  ['.', 'O']],\n",
       " [['this', 'O'],\n",
       "  ['was', 'O'],\n",
       "  ['measured', 'O'],\n",
       "  ['via', 'O'],\n",
       "  ['photoluminescence', 'CMT'],\n",
       "  ['.', 'O']]]"
      ]
     },
     "execution_count": 37,
     "metadata": {},
     "output_type": "execute_result"
    }
   ],
   "source": [
    "doc_1 = \"The bands gap of TiO2 is 3.2 eV. This was measured via photoluminescence.\"\n",
    "doc_2 = \"We deposit GaN thin films using MOCVD\"\n",
    "docs = [doc_1, doc_2] \n",
    "tagged_docs = rester.get_ner_tags(docs, return_type=\"concatenated\")\n",
    "tagged_docs[0]"
   ]
  },
  {
   "cell_type": "markdown",
   "metadata": {},
   "source": [
    "The argument return_type may be set to iob, concatenated, or normalized. The latter will replace entities with their most frequently occurring synonym. A list of tagged documents will be returned. Each doc is a list of sentences; each sentence is a list of (word, tag) pairs."
   ]
  },
  {
   "cell_type": "markdown",
   "metadata": {},
   "source": [
    "### References"
   ]
  },
  {
   "cell_type": "markdown",
   "metadata": {},
   "source": [
    "If you use the matscholar API in your research, please cite the following papers:"
   ]
  },
  {
   "cell_type": "markdown",
   "metadata": {},
   "source": [
    "[1] V. Tshitoyan et al., Nature 571, 95 (2019). \n",
    "\n",
    "[2] L. Weston et al., Submitted to J. Chem. Inf. Model., https://doi.org/10.26434/chemrxiv.8226068.v1"
   ]
  }
 ],
 "metadata": {
  "kernelspec": {
   "display_name": "Python [conda env:matscholar]",
   "language": "python",
   "name": "conda-env-matscholar-py"
  },
  "language_info": {
   "codemirror_mode": {
    "name": "ipython",
    "version": 3
   },
   "file_extension": ".py",
   "mimetype": "text/x-python",
   "name": "python",
   "nbconvert_exporter": "python",
   "pygments_lexer": "ipython3",
   "version": "3.6.7"
  }
 },
 "nbformat": 4,
 "nbformat_minor": 2
}
